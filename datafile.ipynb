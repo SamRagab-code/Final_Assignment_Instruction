# *Data Science Tools and Ecosystem*
# In this Notebook, Data Scicence Tools and  Ecosystem are summarized. 
  
  **objectives:** 

+ List popular languages for Data Science
+ List common libraries for Data Science
+ Evaluating Arithmatic operations 
